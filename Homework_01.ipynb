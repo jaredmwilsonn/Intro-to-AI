{
  "cells": [
    {
      "cell_type": "markdown",
      "metadata": {
        "id": "FlvYiRmAZb1_"
      },
      "source": [
        "# Regression Homework\n",
        "\n",
        "This is the first assignment for CAP 4630 and we will develop two basic models with regression. \\\n",
        "You will use **\"Tasks\"** and **\"Hints\"** to finish the work. **(Total 100 Points)**\n",
        "\n",
        "\n",
        "**Task Overview:**\n",
        "- Singal Variable Nonlinear Regression \n",
        "- Multiple Variable Linear Regression\n"
      ]
    },
    {
      "cell_type": "markdown",
      "metadata": {
        "id": "fXjt4ptVZb2D"
      },
      "source": [
        "## 1 - Packages ##\n",
        "\n",
        "Import useful packages for scientific computing and data processing. **(5 Points)**\n",
        "\n",
        "**Tasks:**\n",
        "1. Import numpy and rename it to np.\n",
        "2. Import pandas and rename it to pd.\n",
        "3. Import the pyplot function in the libraray of matplotlib and rename it to plt.\n",
        "\n",
        "References:\n",
        "- [numpy](www.numpy.org) is the fundamental package for scientific computing with Python.\n",
        "- [matplotlib](http://matplotlib.org) is a famous library to plot graphs in Python.\n",
        "\n",
        "**Attention:**\n",
        "1. After this renaming, you will use the new name to call functions. For example, **numpy** will become **np** in the following sections.\n"
      ]
    },
    {
      "cell_type": "code",
      "execution_count": 4,
      "metadata": {
        "id": "uLlqizpnZb2E"
      },
      "outputs": [],
      "source": [
        "# Coding here\n",
        "import numpy as np\n",
        "import pandas as pd\n",
        "import matplotlib.pyplot as plt\n",
        "\n"
      ]
    },
    {
      "cell_type": "markdown",
      "metadata": {
        "collapsed": true,
        "id": "hyUEhxmKZb2F"
      },
      "source": [
        "## 2 - Data Preparation ##\n",
        "\n",
        "Prepare the data for regression task. **(10 Points)**\n",
        "\n",
        "**Tasks:**\n",
        "1. Load data for nonlinear regression.\n",
        "2. Generate the scatter plot of the data.\n",
        "\n",
        "**Hints:**\n",
        "1. The data file is \"data_nonlinear.csv\".\n",
        "2. The data format is as follows: 1st column is X and 2nd column is Y.\n",
        "3. You may follow the example in class.\n",
        "![](https://drive.google.com/uc?export=view&id=1cLvYRY-NXtukcmi5Av8G2Mz6XOQsheUO)"
      ]
    },
    {
      "cell_type": "code",
      "execution_count": 244,
      "metadata": {
        "id": "oo9NKMBDZb2F",
        "colab": {
          "base_uri": "https://localhost:8080/",
          "height": 340
        },
        "outputId": "867e7e53-b3bc-4f66-ecfd-cdfd5d41b7b1"
      },
      "outputs": [
        {
          "output_type": "display_data",
          "data": {
            "text/plain": [
              "<IPython.core.display.HTML object>"
            ],
            "text/html": [
              "\n",
              "     <input type=\"file\" id=\"files-eea67096-142b-42f4-b022-9b72389bf267\" name=\"files[]\" multiple disabled\n",
              "        style=\"border:none\" />\n",
              "     <output id=\"result-eea67096-142b-42f4-b022-9b72389bf267\">\n",
              "      Upload widget is only available when the cell has been executed in the\n",
              "      current browser session. Please rerun this cell to enable.\n",
              "      </output>\n",
              "      <script>// Copyright 2017 Google LLC\n",
              "//\n",
              "// Licensed under the Apache License, Version 2.0 (the \"License\");\n",
              "// you may not use this file except in compliance with the License.\n",
              "// You may obtain a copy of the License at\n",
              "//\n",
              "//      http://www.apache.org/licenses/LICENSE-2.0\n",
              "//\n",
              "// Unless required by applicable law or agreed to in writing, software\n",
              "// distributed under the License is distributed on an \"AS IS\" BASIS,\n",
              "// WITHOUT WARRANTIES OR CONDITIONS OF ANY KIND, either express or implied.\n",
              "// See the License for the specific language governing permissions and\n",
              "// limitations under the License.\n",
              "\n",
              "/**\n",
              " * @fileoverview Helpers for google.colab Python module.\n",
              " */\n",
              "(function(scope) {\n",
              "function span(text, styleAttributes = {}) {\n",
              "  const element = document.createElement('span');\n",
              "  element.textContent = text;\n",
              "  for (const key of Object.keys(styleAttributes)) {\n",
              "    element.style[key] = styleAttributes[key];\n",
              "  }\n",
              "  return element;\n",
              "}\n",
              "\n",
              "// Max number of bytes which will be uploaded at a time.\n",
              "const MAX_PAYLOAD_SIZE = 100 * 1024;\n",
              "\n",
              "function _uploadFiles(inputId, outputId) {\n",
              "  const steps = uploadFilesStep(inputId, outputId);\n",
              "  const outputElement = document.getElementById(outputId);\n",
              "  // Cache steps on the outputElement to make it available for the next call\n",
              "  // to uploadFilesContinue from Python.\n",
              "  outputElement.steps = steps;\n",
              "\n",
              "  return _uploadFilesContinue(outputId);\n",
              "}\n",
              "\n",
              "// This is roughly an async generator (not supported in the browser yet),\n",
              "// where there are multiple asynchronous steps and the Python side is going\n",
              "// to poll for completion of each step.\n",
              "// This uses a Promise to block the python side on completion of each step,\n",
              "// then passes the result of the previous step as the input to the next step.\n",
              "function _uploadFilesContinue(outputId) {\n",
              "  const outputElement = document.getElementById(outputId);\n",
              "  const steps = outputElement.steps;\n",
              "\n",
              "  const next = steps.next(outputElement.lastPromiseValue);\n",
              "  return Promise.resolve(next.value.promise).then((value) => {\n",
              "    // Cache the last promise value to make it available to the next\n",
              "    // step of the generator.\n",
              "    outputElement.lastPromiseValue = value;\n",
              "    return next.value.response;\n",
              "  });\n",
              "}\n",
              "\n",
              "/**\n",
              " * Generator function which is called between each async step of the upload\n",
              " * process.\n",
              " * @param {string} inputId Element ID of the input file picker element.\n",
              " * @param {string} outputId Element ID of the output display.\n",
              " * @return {!Iterable<!Object>} Iterable of next steps.\n",
              " */\n",
              "function* uploadFilesStep(inputId, outputId) {\n",
              "  const inputElement = document.getElementById(inputId);\n",
              "  inputElement.disabled = false;\n",
              "\n",
              "  const outputElement = document.getElementById(outputId);\n",
              "  outputElement.innerHTML = '';\n",
              "\n",
              "  const pickedPromise = new Promise((resolve) => {\n",
              "    inputElement.addEventListener('change', (e) => {\n",
              "      resolve(e.target.files);\n",
              "    });\n",
              "  });\n",
              "\n",
              "  const cancel = document.createElement('button');\n",
              "  inputElement.parentElement.appendChild(cancel);\n",
              "  cancel.textContent = 'Cancel upload';\n",
              "  const cancelPromise = new Promise((resolve) => {\n",
              "    cancel.onclick = () => {\n",
              "      resolve(null);\n",
              "    };\n",
              "  });\n",
              "\n",
              "  // Wait for the user to pick the files.\n",
              "  const files = yield {\n",
              "    promise: Promise.race([pickedPromise, cancelPromise]),\n",
              "    response: {\n",
              "      action: 'starting',\n",
              "    }\n",
              "  };\n",
              "\n",
              "  cancel.remove();\n",
              "\n",
              "  // Disable the input element since further picks are not allowed.\n",
              "  inputElement.disabled = true;\n",
              "\n",
              "  if (!files) {\n",
              "    return {\n",
              "      response: {\n",
              "        action: 'complete',\n",
              "      }\n",
              "    };\n",
              "  }\n",
              "\n",
              "  for (const file of files) {\n",
              "    const li = document.createElement('li');\n",
              "    li.append(span(file.name, {fontWeight: 'bold'}));\n",
              "    li.append(span(\n",
              "        `(${file.type || 'n/a'}) - ${file.size} bytes, ` +\n",
              "        `last modified: ${\n",
              "            file.lastModifiedDate ? file.lastModifiedDate.toLocaleDateString() :\n",
              "                                    'n/a'} - `));\n",
              "    const percent = span('0% done');\n",
              "    li.appendChild(percent);\n",
              "\n",
              "    outputElement.appendChild(li);\n",
              "\n",
              "    const fileDataPromise = new Promise((resolve) => {\n",
              "      const reader = new FileReader();\n",
              "      reader.onload = (e) => {\n",
              "        resolve(e.target.result);\n",
              "      };\n",
              "      reader.readAsArrayBuffer(file);\n",
              "    });\n",
              "    // Wait for the data to be ready.\n",
              "    let fileData = yield {\n",
              "      promise: fileDataPromise,\n",
              "      response: {\n",
              "        action: 'continue',\n",
              "      }\n",
              "    };\n",
              "\n",
              "    // Use a chunked sending to avoid message size limits. See b/62115660.\n",
              "    let position = 0;\n",
              "    do {\n",
              "      const length = Math.min(fileData.byteLength - position, MAX_PAYLOAD_SIZE);\n",
              "      const chunk = new Uint8Array(fileData, position, length);\n",
              "      position += length;\n",
              "\n",
              "      const base64 = btoa(String.fromCharCode.apply(null, chunk));\n",
              "      yield {\n",
              "        response: {\n",
              "          action: 'append',\n",
              "          file: file.name,\n",
              "          data: base64,\n",
              "        },\n",
              "      };\n",
              "\n",
              "      let percentDone = fileData.byteLength === 0 ?\n",
              "          100 :\n",
              "          Math.round((position / fileData.byteLength) * 100);\n",
              "      percent.textContent = `${percentDone}% done`;\n",
              "\n",
              "    } while (position < fileData.byteLength);\n",
              "  }\n",
              "\n",
              "  // All done.\n",
              "  yield {\n",
              "    response: {\n",
              "      action: 'complete',\n",
              "    }\n",
              "  };\n",
              "}\n",
              "\n",
              "scope.google = scope.google || {};\n",
              "scope.google.colab = scope.google.colab || {};\n",
              "scope.google.colab._files = {\n",
              "  _uploadFiles,\n",
              "  _uploadFilesContinue,\n",
              "};\n",
              "})(self);\n",
              "</script> "
            ]
          },
          "metadata": {}
        },
        {
          "output_type": "stream",
          "name": "stdout",
          "text": [
            "Saving data_nonlinear.csv to data_nonlinear (7).csv\n"
          ]
        },
        {
          "output_type": "execute_result",
          "data": {
            "text/plain": [
              "<matplotlib.collections.PathCollection at 0x7f9922877f50>"
            ]
          },
          "metadata": {},
          "execution_count": 244
        },
        {
          "output_type": "display_data",
          "data": {
            "text/plain": [
              "<Figure size 432x288 with 1 Axes>"
            ],
            "image/png": "[encoded data removed]"
          },
          "metadata": {
            "needs_background": "light"
          }
        }
      ],
      "source": [
        "from google.colab import files\n",
        "uploaded = files.upload()\n",
        "\n",
        "df = pd.read_csv('data_nonlinear.csv')\n",
        "X = df.iloc[:, 0]\n",
        "Y = df.iloc[:, 1]\n",
        "plt.scatter(X, Y)\n"
      ]
    },
    {
      "cell_type": "markdown",
      "metadata": {
        "id": "pqSaGN-fZb2F"
      },
      "source": [
        "## 3 - Single Variable Nonlinear Regression ##\n",
        "\n",
        "\n",
        "Develop a regression model, estimate coefficients with data, and derive the relationship. **(30 Points)**\n",
        "\n",
        "**Tasks:**\n",
        "1. Establish a relationship between Y and X with a cubic function.\n",
        "2. Compute MSE loss with observation-prediction pairs. \n",
        "3. Implement **Gradient Descent (GD)** to achieve optimal solution with the learning rate of **0.000001 (1e-6)** and **10000 (1e4)** epochs.\n",
        "4. Print out the optimal solution at final step. \n",
        "\n",
        "**Hints:**  \n",
        "1. Given the example of linear regression in class, modify the function to an equation for a spline with coefficients of **a** , **b**, **c** and **d** for cubic, qudractic, linear, and constant term.\n",
        "2. Initialize the model with zero. For example, a=0, b=0, c=0 and d=0.\n",
        "3. It may take **10-15 seconds**  to finish the running for 10000 steps. Be patient.\n",
        "4. For debugging, the results of **a**, **b**, **c**, **d** for first five steps are as follows:\n",
        "\n",
        "Epoch  0 :  2.8045093168662314 0.15006631239563697 0.04047903434004733 0.0030023401200892003 \\\n",
        "Epoch  1 :  4.905935374329749 0.2803623842843468 0.07068280026181122 0.0057565282228493 \\\n",
        "Epoch  2 :  6.480417434500056 0.395779237410925 0.09318576969022647 0.008323648642107889 \\\n",
        "Epoch  3 :  7.65996806232127 0.49998280146312246 0.10991745268097952 0.010749486523089888 \\\n",
        "Epoch  4 :  8.543527816733905 0.5957208253596222 0.12232397430880633 0.013068360586717544\n",
        "\n"
      ]
    },
    {
      "cell_type": "code",
      "execution_count": 245,
      "metadata": {
        "id": "xVoEPW0QZb2G",
        "colab": {
          "base_uri": "https://localhost:8080/"
        },
        "outputId": "856a7290-88a0-4638-9fc2-9ed24a8ee1ea"
      },
      "outputs": [
        {
          "output_type": "stream",
          "name": "stdout",
          "text": [
            "MSE = 17080373.135286063\n",
            "Epoch 9999: 10.655168698725843 20.970276527941813 -1.8103041714197274 7.9893336076278585\n"
          ]
        }
      ],
      "source": [
        "\n",
        "a = 0\n",
        "b = 0\n",
        "c = 0\n",
        "d = 0\n",
        "\n",
        "#MSE\n",
        "y_pred = np.empty(len(X))\n",
        "def cubic(x,a,b,c,d):\n",
        "    return a * x**3 + b * x**2 + c * x + d\n",
        "for i in range(len(X)):\n",
        "    y_pred[i] = cubic(df['X'][i], a, b, c, d)\n",
        "MSE = np.square(np.subtract(df['Y'], y_pred)).mean()\n",
        "print(\"MSE =\", MSE)\n",
        "\n",
        "#Gradient Descent\n",
        "learning_rate = 1e-6\n",
        "epochs = 10000\n",
        "\n",
        "n = float(len(X))\n",
        "\n",
        "for i in range(epochs):\n",
        "  Y_pred = a * X**3 + b * X**2 + c * X + d\n",
        "  D_a = (-2/n) * sum(X**3 * (Y - Y_pred))\n",
        "  D_b = (-2/n) * sum(X**2 * (Y - Y_pred))\n",
        "  D_c = (-2/n) * sum(X * (Y - Y_pred))\n",
        "  D_d = (-2/n) * sum((Y - Y_pred))\n",
        "\n",
        "  a = a - learning_rate * D_a\n",
        "  b = b - learning_rate * D_b\n",
        "  c = c - learning_rate * D_c\n",
        "  d = d - learning_rate * D_d\n",
        "  \n",
        "  #print(f\"Epoch {i}: {a} {b} {c} {d}\")\n",
        "\n",
        "print(f\"Epoch {i}: {a} {b} {c} {d}\")\n"
      ]
    },
    {
      "cell_type": "markdown",
      "metadata": {
        "id": "Yf1L5EBiZb2H"
      },
      "source": [
        "## 4 - Prediction Results ##\n",
        "\n",
        "Derive prediction function and generate estmated results. **(5 Points)**\n",
        "\n",
        "**Tasks:**\n",
        "1. Derive prediction function with the obtained coefficients above.\n",
        "2. Generate scatter plots for original data pairs X-Y and prediction results X-Y_Pred in the same figure.\n",
        "\n",
        "**Hint:**\n",
        "1. You may follow the example in class materials.\n",
        "2. An example is shown below.\n",
        "![](https://drive.google.com/uc?export=view&id=1QmisJjMa2aDeoKSClCG90c2KZUDEKmuC)"
      ]
    },
    {
      "cell_type": "code",
      "execution_count": 248,
      "metadata": {
        "id": "imqYGAXaZb2I",
        "colab": {
          "base_uri": "https://localhost:8080/",
          "height": 279
        },
        "outputId": "872e790c-b17b-4346-93cd-4b1ddaba6b2e"
      },
      "outputs": [
        {
          "output_type": "display_data",
          "data": {
            "text/plain": [
              "<Figure size 432x288 with 1 Axes>"
            ],
            "image/png": "[encoded data removed]"
          },
          "metadata": {
            "needs_background": "light"
          }
        }
      ],
      "source": [
        "# Coding here\n",
        "\n",
        "y_pred = a * X**3 + b * X**2 + c * X + d\n",
        "\n",
        "plt.scatter(X, Y)\n",
        "plt.scatter(X,y_pred, color='red')\n",
        "plt.xlabel('X')\n",
        "plt.ylabel('Y')\n",
        "plt.show()"
      ]
    },
    {
      "cell_type": "markdown",
      "metadata": {
        "id": "6F9fAfw4Zb2I"
      },
      "source": [
        "## 5 - Multiple Variables Linear Regression ##\n",
        "\n",
        "## 5.1 Data Preparation\n",
        "\n",
        "Prepare the data for regression task. **(10 Points)**\n",
        "\n",
        "**Tasks:**\n",
        "1. Load data for multiple variable linear regression.\n",
        "2. Generate the 3D scatter plot of the data.\n",
        "\n",
        "**Hints:**\n",
        "1. The data file is \"data_two_variables.csv\".\n",
        "2. The data format is as follows: 1st column is X1, 2nd column is X2, and 3rd colum is Y.\n",
        "3. You may use \"mplot3d\" in the toolkit of \"mpl_toolkits\" and import \"Axes3D\" to faciliate 3D scatter plot. More details can be found in the reference of https://matplotlib.org/mpl_toolkits/mplot3d/tutorial.html\n",
        "4. [Optional, NO Credit]You may rotate the figure you generated by using \"%matplotlib qt\" before you plot it. Remember to install the related package by \"!pip install PyQt5\". Only work on Jupyter(locally). Does not work on Google Colab. [Reference Website](https://stackoverflow.com/questions/14261903/how-can-i-open-the-interactive-matplotlib-window-in-ipython-notebook)\n",
        "\n",
        "![](https://drive.google.com/uc?export=view&id=1sHwWfZXpU3-8SqzFrmCxIvxmQWfe2Nns)\n",
        "![](https://drive.google.com/uc?export=view&id=1OwHP0g-K2um-LnKiDhE6UfkDFxk4Opce)\n"
      ]
    },
    {
      "cell_type": "code",
      "execution_count": 249,
      "metadata": {
        "id": "peLvRxoGZb2J",
        "colab": {
          "base_uri": "https://localhost:8080/",
          "height": 74
        },
        "outputId": "98e4cfae-6cb5-4d2d-e032-ed11098a6614"
      },
      "outputs": [
        {
          "output_type": "display_data",
          "data": {
            "text/plain": [
              "<IPython.core.display.HTML object>"
            ],
            "text/html": [
              "\n",
              "     <input type=\"file\" id=\"files-e408ea1a-85dc-4604-b932-2578a2d6e075\" name=\"files[]\" multiple disabled\n",
              "        style=\"border:none\" />\n",
              "     <output id=\"result-e408ea1a-85dc-4604-b932-2578a2d6e075\">\n",
              "      Upload widget is only available when the cell has been executed in the\n",
              "      current browser session. Please rerun this cell to enable.\n",
              "      </output>\n",
              "      <script>// Copyright 2017 Google LLC\n",
              "//\n",
              "// Licensed under the Apache License, Version 2.0 (the \"License\");\n",
              "// you may not use this file except in compliance with the License.\n",
              "// You may obtain a copy of the License at\n",
              "//\n",
              "//      http://www.apache.org/licenses/LICENSE-2.0\n",
              "//\n",
              "// Unless required by applicable law or agreed to in writing, software\n",
              "// distributed under the License is distributed on an \"AS IS\" BASIS,\n",
              "// WITHOUT WARRANTIES OR CONDITIONS OF ANY KIND, either express or implied.\n",
              "// See the License for the specific language governing permissions and\n",
              "// limitations under the License.\n",
              "\n",
              "/**\n",
              " * @fileoverview Helpers for google.colab Python module.\n",
              " */\n",
              "(function(scope) {\n",
              "function span(text, styleAttributes = {}) {\n",
              "  const element = document.createElement('span');\n",
              "  element.textContent = text;\n",
              "  for (const key of Object.keys(styleAttributes)) {\n",
              "    element.style[key] = styleAttributes[key];\n",
              "  }\n",
              "  return element;\n",
              "}\n",
              "\n",
              "// Max number of bytes which will be uploaded at a time.\n",
              "const MAX_PAYLOAD_SIZE = 100 * 1024;\n",
              "\n",
              "function _uploadFiles(inputId, outputId) {\n",
              "  const steps = uploadFilesStep(inputId, outputId);\n",
              "  const outputElement = document.getElementById(outputId);\n",
              "  // Cache steps on the outputElement to make it available for the next call\n",
              "  // to uploadFilesContinue from Python.\n",
              "  outputElement.steps = steps;\n",
              "\n",
              "  return _uploadFilesContinue(outputId);\n",
              "}\n",
              "\n",
              "// This is roughly an async generator (not supported in the browser yet),\n",
              "// where there are multiple asynchronous steps and the Python side is going\n",
              "// to poll for completion of each step.\n",
              "// This uses a Promise to block the python side on completion of each step,\n",
              "// then passes the result of the previous step as the input to the next step.\n",
              "function _uploadFilesContinue(outputId) {\n",
              "  const outputElement = document.getElementById(outputId);\n",
              "  const steps = outputElement.steps;\n",
              "\n",
              "  const next = steps.next(outputElement.lastPromiseValue);\n",
              "  return Promise.resolve(next.value.promise).then((value) => {\n",
              "    // Cache the last promise value to make it available to the next\n",
              "    // step of the generator.\n",
              "    outputElement.lastPromiseValue = value;\n",
              "    return next.value.response;\n",
              "  });\n",
              "}\n",
              "\n",
              "/**\n",
              " * Generator function which is called between each async step of the upload\n",
              " * process.\n",
              " * @param {string} inputId Element ID of the input file picker element.\n",
              " * @param {string} outputId Element ID of the output display.\n",
              " * @return {!Iterable<!Object>} Iterable of next steps.\n",
              " */\n",
              "function* uploadFilesStep(inputId, outputId) {\n",
              "  const inputElement = document.getElementById(inputId);\n",
              "  inputElement.disabled = false;\n",
              "\n",
              "  const outputElement = document.getElementById(outputId);\n",
              "  outputElement.innerHTML = '';\n",
              "\n",
              "  const pickedPromise = new Promise((resolve) => {\n",
              "    inputElement.addEventListener('change', (e) => {\n",
              "      resolve(e.target.files);\n",
              "    });\n",
              "  });\n",
              "\n",
              "  const cancel = document.createElement('button');\n",
              "  inputElement.parentElement.appendChild(cancel);\n",
              "  cancel.textContent = 'Cancel upload';\n",
              "  const cancelPromise = new Promise((resolve) => {\n",
              "    cancel.onclick = () => {\n",
              "      resolve(null);\n",
              "    };\n",
              "  });\n",
              "\n",
              "  // Wait for the user to pick the files.\n",
              "  const files = yield {\n",
              "    promise: Promise.race([pickedPromise, cancelPromise]),\n",
              "    response: {\n",
              "      action: 'starting',\n",
              "    }\n",
              "  };\n",
              "\n",
              "  cancel.remove();\n",
              "\n",
              "  // Disable the input element since further picks are not allowed.\n",
              "  inputElement.disabled = true;\n",
              "\n",
              "  if (!files) {\n",
              "    return {\n",
              "      response: {\n",
              "        action: 'complete',\n",
              "      }\n",
              "    };\n",
              "  }\n",
              "\n",
              "  for (const file of files) {\n",
              "    const li = document.createElement('li');\n",
              "    li.append(span(file.name, {fontWeight: 'bold'}));\n",
              "    li.append(span(\n",
              "        `(${file.type || 'n/a'}) - ${file.size} bytes, ` +\n",
              "        `last modified: ${\n",
              "            file.lastModifiedDate ? file.lastModifiedDate.toLocaleDateString() :\n",
              "                                    'n/a'} - `));\n",
              "    const percent = span('0% done');\n",
              "    li.appendChild(percent);\n",
              "\n",
              "    outputElement.appendChild(li);\n",
              "\n",
              "    const fileDataPromise = new Promise((resolve) => {\n",
              "      const reader = new FileReader();\n",
              "      reader.onload = (e) => {\n",
              "        resolve(e.target.result);\n",
              "      };\n",
              "      reader.readAsArrayBuffer(file);\n",
              "    });\n",
              "    // Wait for the data to be ready.\n",
              "    let fileData = yield {\n",
              "      promise: fileDataPromise,\n",
              "      response: {\n",
              "        action: 'continue',\n",
              "      }\n",
              "    };\n",
              "\n",
              "    // Use a chunked sending to avoid message size limits. See b/62115660.\n",
              "    let position = 0;\n",
              "    do {\n",
              "      const length = Math.min(fileData.byteLength - position, MAX_PAYLOAD_SIZE);\n",
              "      const chunk = new Uint8Array(fileData, position, length);\n",
              "      position += length;\n",
              "\n",
              "      const base64 = btoa(String.fromCharCode.apply(null, chunk));\n",
              "      yield {\n",
              "        response: {\n",
              "          action: 'append',\n",
              "          file: file.name,\n",
              "          data: base64,\n",
              "        },\n",
              "      };\n",
              "\n",
              "      let percentDone = fileData.byteLength === 0 ?\n",
              "          100 :\n",
              "          Math.round((position / fileData.byteLength) * 100);\n",
              "      percent.textContent = `${percentDone}% done`;\n",
              "\n",
              "    } while (position < fileData.byteLength);\n",
              "  }\n",
              "\n",
              "  // All done.\n",
              "  yield {\n",
              "    response: {\n",
              "      action: 'complete',\n",
              "    }\n",
              "  };\n",
              "}\n",
              "\n",
              "scope.google = scope.google || {};\n",
              "scope.google.colab = scope.google.colab || {};\n",
              "scope.google.colab._files = {\n",
              "  _uploadFiles,\n",
              "  _uploadFilesContinue,\n",
              "};\n",
              "})(self);\n",
              "</script> "
            ]
          },
          "metadata": {}
        },
        {
          "output_type": "stream",
          "name": "stdout",
          "text": [
            "Saving data_two_variables.csv to data_two_variables (4).csv\n"
          ]
        }
      ],
      "source": [
        "# Coding here\n",
        "\n",
        "from mpl_toolkits.mplot3d import Axes3D\n",
        "from google.colab import files\n",
        "uploaded = files.upload()"
      ]
    },
    {
      "cell_type": "code",
      "source": [
        "#Coding here\n",
        "\n",
        "df2 = pd.read_csv('data_two_variables.csv')\n",
        "X1 = df2.iloc[:,0]\n",
        "X2 = df2.iloc[:,1]\n",
        "Y = df2.iloc[:,2]\n",
        "fig = plt.figure()\n",
        "ax = fig.add_subplot(111,projection = '3d')\n",
        "ax.scatter(X1,X2,Y,c='b')\n",
        "fig.show()"
      ],
      "metadata": {
        "colab": {
          "base_uri": "https://localhost:8080/",
          "height": 248
        },
        "id": "B34ynmD8APOD",
        "outputId": "3d895369-a335-4ad2-b5bd-f3b028f9eec1"
      },
      "execution_count": 269,
      "outputs": [
        {
          "output_type": "display_data",
          "data": {
            "text/plain": [
              "<Figure size 432x288 with 1 Axes>"
            ],
            "image/png": "[encoded data removed]"
          },
          "metadata": {
            "needs_background": "light"
          }
        }
      ]
    },
    {
      "cell_type": "markdown",
      "metadata": {
        "id": "7J88iMLMZb2K"
      },
      "source": [
        "\n",
        "## 5.2 Linear Regression\n",
        "\n",
        "Develop a regression model, estimate coefficients with data, and derive the relationship. **(30 Points)**\n",
        "\n",
        "**Tasks:**\n",
        "1. Establish a linear function to describe the relationship among Y, X1, and X2.\n",
        "2. Compute MSE loss with observation-prediction pairs.\n",
        "3. Implement **Gradient Descent (GD)** to achieve optimal solution with the learning rate of **0.001 (1e-3)** and **10000 (1e4)** epochs.\n",
        "4. Print out the optimal solution at final step. \n",
        "\n",
        "\n",
        "**Hints:**  \n",
        "1. Given the example of linear regression in class, modify the function to a linear equation with two independent variables X1 and X2. The coefficients of X1 and X2 are **m1** and **m2**, respectively. The constant term is **m3**.\n",
        "2. Initialize the model with zero. For example, m1=0, m2=0, and m3=0.\n",
        "3. It may take **10-15 seconds**  to finish the running for 10000 steps. Be patient.\n",
        "4. For debugging, the results of **m1**, **m2**, and **m3** for first five steps are as follows:\n",
        "\n",
        "Epoch 0: 7.43847600018326 15.595631430047339 1.4265844915879997 \\\n",
        "Epoch 1: 12.954483113402425 26.731746959534096 2.481143659135288 \\\n",
        "Epoch 2: 17.084193849045587 34.664109745712814 3.2680146970514863 \\\n",
        "Epoch 3: 20.213137348549306 40.2953527521597 3.8622050343066556 \\\n",
        "Epoch 4: 22.618552798604984 44.274269323103674 4.317638791453634 \\\n",
        "Epoch 5: 32.734943422646175 34.69592128962032 222.91661391579638"
      ]
    },
    {
      "cell_type": "code",
      "execution_count": 273,
      "metadata": {
        "id": "fSexkEyOZb2K",
        "colab": {
          "base_uri": "https://localhost:8080/"
        },
        "outputId": "b9f2d6a2-427d-45ef-a621-9cbceee90230"
      },
      "outputs": [
        {
          "output_type": "stream",
          "name": "stdout",
          "text": [
            "MSE = 15323554.08286603\n",
            "Epoch 9999: 32.73494342264618 34.69592128962032 222.91661391579635\n"
          ]
        }
      ],
      "source": [
        "# Coding here\n",
        "\n",
        "\n",
        "m1 = 0\n",
        "m2 = 0\n",
        "m3 = 0\n",
        "\n",
        "#MSE\n",
        "Y_pred = np.empty(len(X))\n",
        "def linear_fn(x1, x2, m1, m2, m3):\n",
        "    return m1 * x1 + m2 * x2 + m3\n",
        "for i in range(len(X)):\n",
        "    Y_pred[i] = linear_fn(X1[i], X2[i], m1, m2, m3)\n",
        "MSE = np.square(np.subtract(Y, y_pred)).mean()\n",
        "print(\"MSE =\", MSE)\n",
        "\n",
        "#Gradient Descent\n",
        "learning_rate = .001\n",
        "epochs = 10000\n",
        "\n",
        "n = float(len(X1))\n",
        "\n",
        "for i in range(epochs):\n",
        "    Y_pred = m1 * X1 + m2 * X2 + m3\n",
        "    D_m1 = (-2/n) * sum(X1 * (Y - Y_pred))\n",
        "    D_m2 = (-2/n) * sum(X2 * (Y - Y_pred))\n",
        "    D_m3 = (-2/n) * sum(Y - Y_pred)\n",
        "\n",
        "    m1 = m1 - learning_rate * D_m1\n",
        "    m2 = m2 - learning_rate * D_m2\n",
        "    m3 = m3 - learning_rate * D_m3\n",
        "\n",
        "    #print(f\"Epoch {i}: {m1} {m2} {m3}\")\n",
        "\n",
        "print(f\"Epoch {i}: {m1} {m2} {m3}\")"
      ]
    },
    {
      "cell_type": "markdown",
      "metadata": {
        "id": "jUh42RGgZb2L"
      },
      "source": [
        "\n",
        "## 5.3 - Prediction Results ##\n",
        "\n",
        "Derive prediction function and generate estmated results. **(10 Points)**\n",
        "\n",
        "**Tasks:**\n",
        "1. Derive prediction function with the obtained coefficients above.\n",
        "2. Generate 3D scatter plots for original data pairs X-Y and prediction results X-Y_Pred in the same figure.\n",
        "\n",
        "**Hint:**\n",
        "1. You may follow the example above.\n",
        "2. An example is shown below.\n",
        "![](https://drive.google.com/uc?export=view&id=1xAl7eJmDmFPTNipd0SljAdyHs3PhRiMg)\n",
        "![](https://drive.google.com/uc?export=view&id=1Eb9qZqTCmAbwJUkoTQ6zPys3ezWqTCkr)"
      ]
    },
    {
      "cell_type": "code",
      "execution_count": 288,
      "metadata": {
        "id": "NswMQm-1Zb2L",
        "colab": {
          "base_uri": "https://localhost:8080/",
          "height": 355
        },
        "outputId": "c5e39f44-d384-4355-905c-8b1b1d3ec36e"
      },
      "outputs": [
        {
          "output_type": "execute_result",
          "data": {
            "text/plain": [
              "([<matplotlib.axis.XTick at 0x7f9921bd6290>,\n",
              "  <matplotlib.axis.XTick at 0x7f9921ac2110>,\n",
              "  <matplotlib.axis.XTick at 0x7f9921a023d0>,\n",
              "  <matplotlib.axis.XTick at 0x7f9921a02ed0>,\n",
              "  <matplotlib.axis.XTick at 0x7f9921a0c450>],\n",
              " <a list of 5 Text major ticklabel objects>)"
            ]
          },
          "metadata": {},
          "execution_count": 288
        },
        {
          "output_type": "display_data",
          "data": {
            "text/plain": [
              "<Figure size 432x288 with 1 Axes>"
            ],
            "image/png": "[encoded data removed]"
          },
          "metadata": {
            "needs_background": "light"
          }
        }
      ],
      "source": [
        "# Coding here\n",
        "labels = [0,5,10,15,20]\n",
        "fig = plt.figure()\n",
        "\n",
        "ax = fig.add_subplot(projection = '3d')\n",
        "ax.scatter(X1,X2,Y,c='b')\n",
        "ax.scatter(X1,X2,Y_pred,c='r')\n",
        "plt.yticks([0,5,10,15,20])"
      ]
    }
  ],
  "metadata": {
    "colab": {
      "collapsed_sections": [],
      "provenance": []
    },
    "coursera": {
      "course_slug": "neural-networks-deep-learning",
      "graded_item_id": "XaIWT",
      "launcher_item_id": "zAgPl"
    },
    "kernelspec": {
      "display_name": "Python 3 (ipykernel)",
      "language": "python",
      "name": "python3"
    },
    "language_info": {
      "codemirror_mode": {
        "name": "ipython",
        "version": 3
      },
      "file_extension": ".py",
      "mimetype": "text/x-python",
      "name": "python",
      "nbconvert_exporter": "python",
      "pygments_lexer": "ipython3",
      "version": "3.9.7"
    }
  },
  "nbformat": 4,
  "nbformat_minor": 0
}